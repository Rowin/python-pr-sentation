{
 "cells": [
  {
   "cell_type": "markdown",
   "id": "399e5719-f991-4d3e-b6d7-12140fdd451b",
   "metadata": {},
   "source": [
    "# Ceci est un test\n",
    "\n",
    "Je peux mettre du TS ici : \n",
    "\n",
    "````ts\n",
    "\n",
    "number a = 5;\n",
    "\n",
    "class TOTO{\n",
    "\n",
    "const Array<T> list = [];\n",
    "    \n",
    "// a comment here\n",
    "}\n",
    "\n",
    "```\n",
    "\n",
    "\n"
   ]
  },
  {
   "cell_type": "code",
   "execution_count": null,
   "id": "f8d16d10-4299-40bb-b889-0d4168774ca7",
   "metadata": {},
   "outputs": [],
   "source": []
  }
 ],
 "metadata": {
  "kernelspec": {
   "display_name": "Python 3 (ipykernel)",
   "language": "python",
   "name": "python3"
  },
  "language_info": {
   "codemirror_mode": {
    "name": "ipython",
    "version": 3
   },
   "file_extension": ".py",
   "mimetype": "text/x-python",
   "name": "python",
   "nbconvert_exporter": "python",
   "pygments_lexer": "ipython3",
   "version": "3.11.0"
  }
 },
 "nbformat": 4,
 "nbformat_minor": 5
}
