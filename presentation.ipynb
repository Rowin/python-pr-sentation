{
 "cells": [
  {
   "cell_type": "markdown",
   "id": "399e5719-f991-4d3e-b6d7-12140fdd451b",
   "metadata": {
    "slideshow": {
     "slide_type": "slide"
    }
   },
   "source": [
    "# Ceci est un test\n",
    "\n",
    "Je peux mettre du TS ici : \n",
    "\n",
    "````ts\n",
    "\n",
    "number a = 5;\n",
    "\n",
    "class TOTO{\n",
    "\n",
    "const Array<T> list = [];\n",
    "    \n",
    "// anewxww comment here\n",
    "}\n",
    "```\n",
    "\n",
    "\n"
   ]
  },
  {
   "cell_type": "markdown",
   "id": "8c80f805-03ad-4476-847f-7f2d75849f4d",
   "metadata": {
    "slideshow": {
     "slide_type": "slide"
    }
   },
   "source": [
    "# Sommaire\n",
    "\n",
    "* [Exemples Introductifs](#examples)\n",
    "    * [Généricité Simple](#example1)\n",
    "    * [Généricité Simple - Premiere Approche](#example1-solution1)\n",
    "    * [Généricité Simple - Seconde Approche](#example1-solution2)\n",
    "    * [Généricité Simple - Bilan](#example1-bilan)\n",
    "    * [Généricité Multiple](#example2)\n",
    "    * [En Résumé](#resume)\n",
    "* [Chronologie d'Apparition des Types Génériques](#chronologie)\n",
    "* [Généricité Simple En python... jusqu'alors](#python1)\n",
    "* [Sources](#sources)"
   ]
  },
  {
   "cell_type": "markdown",
   "id": "05daf56c-b091-471f-8620-3304ba4c0ae8",
   "metadata": {
    "slideshow": {
     "slide_type": "slide"
    }
   },
   "source": [
    "## Exemples Introductifs <a class=\"anchor\" id=\"examples\"></a>\n",
    "\n",
    "\n",
    "\n",
    "\n"
   ]
  },
  {
   "cell_type": "markdown",
   "id": "594deea6",
   "metadata": {
    "slideshow": {
     "slide_type": "slide"
    }
   },
   "source": [
    "## Généricité Simple <a class=\"anchor\" id=\"example1\"></a>"
   ]
  },
  {
   "cell_type": "markdown",
   "id": "0fe1d100",
   "metadata": {
    "slideshow": {
     "slide_type": "subslide"
    }
   },
   "source": [
    "### Généricité Simple (1/x)\n",
    "\n",
    "\n",
    "```ts\n",
    "/**\n",
    " * Types for extremely complex objects.\n",
    " */\n",
    "// List of available courses\n",
    "type Classes = \"Advanced English\" | \"Maths\" | \"Physics\" | \"Computer Science\" | \"Babi-Foot\";\n",
    "\n",
    "// A student in the University\n",
    "type Student = {\n",
    "  administrationId: string;\n",
    "  lastName: string;\n",
    "  firstName: string;\n",
    "  attendedClasses: Array<Classes>;\n",
    "};\n",
    "```\n"
   ]
  },
  {
   "cell_type": "markdown",
   "id": "41c7f2e6",
   "metadata": {
    "slideshow": {
     "slide_type": "subslide"
    }
   },
   "source": [
    "### Généricité Simple (2/5)\n",
    "\n",
    "```ts\n",
    "class University {\n",
    "  name: string;\n",
    "  students: Array<Student>;\n",
    "\n",
    "  constructor(name: string) {\n",
    "    this.name = name;\n",
    "    this.students = new Array<Student>();\n",
    "  }\n",
    "\n",
    "  addStudent(student: Student): void {\n",
    "    this.students = [...this.students, student];\n",
    "  }\n",
    "\n",
    "  removeStudent(administrationId: string): void {\n",
    "    this.students = this.students.filter((student) => {\n",
    "      return student.administrationId === administrationId;\n",
    "    });\n",
    "  }\n",
    "\n",
    "  getStudent(administrationId: string): Student | undefined {\n",
    "    return this.students.find((student) => {\n",
    "      return student.administrationId === administrationId;\n",
    "    });\n",
    "  }\n",
    "}\n",
    "```"
   ]
  },
  {
   "cell_type": "markdown",
   "id": "191a301a",
   "metadata": {
    "slideshow": {
     "slide_type": "subslide"
    }
   },
   "source": [
    "### Généricité Simple (3/5)\n",
    "\n",
    "```ts\n",
    "type DoctoralStudent = {\n",
    "  administrationId: string;\n",
    "  lastName: string;\n",
    "  firstName: string;\n",
    "  classesGiven: Array<Classes>;\n",
    "  salary: number;\n",
    "};\n",
    "```\n",
    "\n",
    "Que ce passe-t-il si on ajoute un doctorant à l'université ?"
   ]
  },
  {
   "cell_type": "markdown",
   "id": "74cc9caa",
   "metadata": {
    "slideshow": {
     "slide_type": "subslide"
    }
   },
   "source": [
    "### Généricité Simple (4/5)\n",
    "\n",
    "\n",
    "Dans les faits :\n",
    "\n",
    "```ts\n",
    "\n",
    "const robert: Student = {\n",
    "  administrationId: \"452115r\",\n",
    "  firstName: \"DELACREUSE\",\n",
    "  lastName: \"Robert\",\n",
    "  attendedClasses: [\"Computer Science\", \"Babi-Foot\"],\n",
    "};\n",
    "\n",
    "const nathan: DoctoralStudent = {\n",
    "  administrationId: \"559151d\",\n",
    "  firstName: \"D\",\n",
    "  lastName: \"Nathan\",\n",
    "  classesGiven: [\"Babi-Foot\"],\n",
    "  salary: 2100,\n",
    "};\n",
    "const university = new University(\"Web Master\"); // what an University !\n",
    "university.addStudent(robert) // OK\n",
    "university.addStudent(nathan) // KO : Property 'attendedClasses' is missing in type 'DoctoralStudent' but required in type 'Student'\n",
    "```"
   ]
  },
  {
   "cell_type": "markdown",
   "id": "37261f8f",
   "metadata": {
    "slideshow": {
     "slide_type": "subslide"
    }
   },
   "source": [
    "### Généricité Simple (5/5)\n",
    "\n",
    "**Problème** : Comment pouvoir ajouter un _DoctoralStudent_ dans un Objet de type _University_ ?\n"
   ]
  },
  {
   "cell_type": "markdown",
   "id": "fcf56e6a",
   "metadata": {
    "slideshow": {
     "slide_type": "fragment"
    }
   },
   "source": [
    "**Solution naive** : Rendre le type _student_ plus \"englobant\" : \n",
    "\n",
    "```ts\n",
    "// A student in the University\n",
    "type Student = {\n",
    "    administrationId: string;\n",
    "    lastName: string;\n",
    "    firstName: string;\n",
    "    attendedClasses: Array<Classes>;\n",
    "};\n",
    "\n",
    "type DoctoralStudent = {\n",
    "  administrationId: string;\n",
    "  lastName: string;\n",
    "  firstName: string;\n",
    "  classesGiven: Array<Classes>;\n",
    "  salary: number;\n",
    "};\n",
    "```"
   ]
  },
  {
   "cell_type": "markdown",
   "id": "6d6436d2",
   "metadata": {
    "slideshow": {
     "slide_type": "fragment"
    }
   },
   "source": [
    "```ts\n",
    "type Academics = Student | DoctoralStudent\n",
    "```"
   ]
  },
  {
   "cell_type": "markdown",
   "id": "23ca8e0e",
   "metadata": {
    "slideshow": {
     "slide_type": "subslide"
    }
   },
   "source": [
    "### Généricité Simple - Premiere Approche (1/3) <a class=\"anchor\" id=\"example1-solution1\"></a>\n",
    "\n",
    "```ts\n",
    "class University {\n",
    "  name: string;\n",
    "  academics: Array<Academics>;\n",
    "\n",
    "  constructor(name: string) {\n",
    "    this.name = name;\n",
    "    this.academics = new Array<Academics>();\n",
    "  }\n",
    " \n",
    "  addAcademic(academic: Academics): void {\n",
    "    this.academics = [...this.academics, academic];\n",
    "  }\n",
    " \n",
    "  removeAcademic(administrationId: string): void {\n",
    "    this.academics = this.academics.filter((academic) => {\n",
    "      return academic.administrationId === administrationId;\n",
    "    });\n",
    "  }\n",
    "\n",
    "  getAcademic(administrationId: string): Academics | undefined {\n",
    "    return this.academics.find((academic) => {\n",
    "      return academic.administrationId === administrationId;\n",
    "    });\n",
    "  }}\n",
    "```"
   ]
  },
  {
   "cell_type": "markdown",
   "id": "95183978",
   "metadata": {
    "slideshow": {
     "slide_type": "subslide"
    }
   },
   "source": [
    "### Généricité Simple - Premiere Approche (2/3)\n",
    "Dans les faits \\#2 :\n",
    "\n",
    "```ts\n",
    "const university2 = new University(\"Web Master reborn\"); // instantiation of a new university\n",
    "university2.addAcademic(robert); // OK\n",
    "university2.addAcademic(nathan); // OK\n",
    "```"
   ]
  },
  {
   "cell_type": "markdown",
   "id": "3dfbde65",
   "metadata": {
    "slideshow": {
     "slide_type": "subslide"
    }
   },
   "source": [
    "### Généricité Simple - Premiere Approche (3/3)\n",
    "\n",
    "<span style=\"color: green\">+ On répond au besoin</span>  \n",
    "<span style=\"color: red\">- A chaque nouveaux types géré, il faut modifier le type \"générique\" de notre université</span>  \n",
    "<span style=\"color: red\">- On manipule des unions d'objects complexes</span>  "
   ]
  },
  {
   "cell_type": "markdown",
   "id": "ec413194",
   "metadata": {
    "slideshow": {
     "slide_type": "subslide"
    }
   },
   "source": [
    "### Généricité Simple - Seconde Approche (1/4) <a class=\"anchor\" id=\"example1-solution2\"></a>\n",
    "\n",
    "On utilise un type générique pour notre classe d'Université :\n",
    "\n",
    "```ts\n",
    "class University<T> {\n",
    "    name: string;\n",
    "    academics: Array<T>;\n",
    "\n",
    "    constructor(name: string){\n",
    "        this.name = name\n",
    "        this.academics = new Array<T>;\n",
    "    }\n",
    "\n",
    "    addAcademic(academic: T): void{\n",
    "        this.academics = [...this.academics, academic]\n",
    "    }\n",
    "   \n",
    "    removeAcademic(administrationId: string): void {\n",
    "        this.academics = this.academics.filter((academic) => {return academic.administrationId === administrationId})\n",
    "        //Property 'administrationId' does not exist on type 'T' !\n",
    "    }\n",
    "\n",
    "    getAcademic(administrationId: string): T | undefined {\n",
    "        return this.academics.find((academic) => {return academic.administrationId === administrationId})\n",
    "        //Property 'administrationId' does not exist on type 'T' !\n",
    "    }\n",
    "}\n",
    "```"
   ]
  },
  {
   "cell_type": "markdown",
   "id": "8b19ba3e",
   "metadata": {
    "slideshow": {
     "slide_type": "subslide"
    }
   },
   "source": [
    "### Généricité Simple - Seconde Approche (2/4)\n",
    "\n",
    "\n",
    "**Solution** : On part d'un type _Academics_ le plus épuré possible : \n",
    "\n",
    "```ts\n",
    "type Academics = {\n",
    "    administrationId: string;\n",
    "    lastName: string;\n",
    "    firstName: string;\n",
    "};\n",
    "```"
   ]
  },
  {
   "cell_type": "markdown",
   "id": "a91ad2fc",
   "metadata": {
    "slideshow": {
     "slide_type": "subslide"
    }
   },
   "source": [
    "### Généricité Simple - Seconde Approche (3/4)\n",
    "\n",
    "```ts\n",
    "class University<T extends Academics> {\n",
    "    name: string;\n",
    "    academics: Array<T>;\n",
    "\n",
    "    constructor(name: string){\n",
    "        this.name = name\n",
    "        this.academics = new Array<T>;\n",
    "    }\n",
    "\n",
    "    addAcademic(academic: T): void{\n",
    "        this.academics = [...this.academics, academic]\n",
    "    }\n",
    "   \n",
    "    removeAcademic(administrationId: string): void {\n",
    "        this.academics = this.academics.filter((academic) => {return academic.administrationId === administrationId})\n",
    "        //OK\n",
    "    }\n",
    "\n",
    "    getAcademic(administrationId: string): T | undefined {\n",
    "        return this.academics.find((academic) => {return academic.administrationId === administrationId})//OK\n",
    "    }\n",
    "}\n",
    "```"
   ]
  },
  {
   "cell_type": "markdown",
   "id": "326b980f",
   "metadata": {
    "slideshow": {
     "slide_type": "subslide"
    }
   },
   "source": [
    "### Généricité Simple - Seconde Approche (4/4)\n",
    "\n",
    "```ts\n",
    "const university2 = new University2<Academics>(\"Web Master apotheosis\"); // instantiation of a new university\n",
    "university2.addAcademic(robert) // OK\n",
    "university2.addAcademic(nathan) // OK, this is fine\n",
    "```\n"
   ]
  },
  {
   "cell_type": "markdown",
   "id": "fe5db240",
   "metadata": {
    "slideshow": {
     "slide_type": "subslide"
    }
   },
   "source": [
    "### Généricité Simple - Bilan <a class=\"anchor\" id=\"example1-bilan\"></a>\n",
    "\n",
    "\n",
    "Avec la seconde approche :\n",
    "\n",
    "<span style=\"color: green\">+ On répond au besoin</span>  \n",
    "<span style=\"color: green\">+ La gestion des types concernés est faite à un seul endroit</span>  \n",
    "<span style=\"color: green\">+ A chaque nouveaux types géré, rien ne change dans la structure de la classe</span>  \n",
    "<span style=\"color: green\">+ Contraintes explicite sur le type attendu à l'instanciation d'une nouvelle université</span>\n",
    "\n"
   ]
  },
  {
   "cell_type": "markdown",
   "id": "81ec7419",
   "metadata": {
    "slideshow": {
     "slide_type": "slide"
    }
   },
   "source": [
    "## Généricité Multiple <a class=\"anchor\" id=\"example2\"></a>\n",
    "\n",
    "\n"
   ]
  },
  {
   "cell_type": "markdown",
   "id": "87b1cd95",
   "metadata": {
    "slideshow": {
     "slide_type": "subslide"
    }
   },
   "source": [
    "### Généricité Multiple (1/6)\n",
    "\n",
    "On se donne la définition d'un dictionaire suivante :\n",
    "\n",
    "```ts\n",
    "interface Dict<T> {\n",
    "  [k: string]: T;\n",
    "}\n",
    "```"
   ]
  },
  {
   "cell_type": "markdown",
   "id": "6a8be238",
   "metadata": {
    "slideshow": {
     "slide_type": "fragment"
    }
   },
   "source": [
    "\n",
    "### Généricité Multiple (2/6)\n",
    "\n",
    "```ts\n",
    "function mapDict<T, S>(\n",
    "  inputDict: Dict<T>,\n",
    "  mapFunction: (original: T, key: string) => S\n",
    "): Dict<S> {\n",
    "  const outDict: Dict<S> = {};\n",
    "  for (let k of Object.keys(inputDict)) {\n",
    "    const thisVal = inputDict[k];\n",
    "    outDict[k] = mapFunction(thisVal, k);\n",
    "  }\n",
    "  return outDict;\n",
    "}\n",
    "```"
   ]
  },
  {
   "cell_type": "markdown",
   "id": "16718d8c",
   "metadata": {
    "slideshow": {
     "slide_type": "subslide"
    }
   },
   "source": [
    "### Généricité Multiple (3/6)\n",
    "\n",
    "```ts\n",
    "function filterDict<T>(\n",
    "  inputDict: Dict<T>,\n",
    "  filterFunction: (value: T, key: string) => boolean\n",
    "): Dict<T> {\n",
    "  const outDict: Dict<T> = {};\n",
    "  for (let k of Object.keys(inputDict)) {\n",
    "    const thisVal = inputDict[k];\n",
    "    if (filterFunction(thisVal, k)) outDict[k] = thisVal;\n",
    "  }\n",
    "  return outDict;\n",
    "}\n",
    "```"
   ]
  },
  {
   "cell_type": "markdown",
   "id": "579c06f2",
   "metadata": {
    "slideshow": {
     "slide_type": "subslide"
    }
   },
   "source": [
    "### Généricité Multiple (4/6)\n",
    "\n",
    "```ts\n",
    "function reduceDict<T, S>(\n",
    "  inputDict: Dict<T>,\n",
    "  reducerFunction: (currentVal: S, dictItem: T, key: string) => S,\n",
    "  initialValue: S\n",
    "): S {\n",
    "  let value = initialValue;\n",
    "  for (let k of Object.keys(inputDict)) {\n",
    "    const thisVal = inputDict[k];\n",
    "    value = reducerFunction(value, thisVal, k);\n",
    "  }\n",
    "  return value;\n",
    "}\n",
    "```"
   ]
  },
  {
   "cell_type": "markdown",
   "id": "fdd8040c",
   "metadata": {
    "slideshow": {
     "slide_type": "subslide"
    }
   },
   "source": [
    "### Généricité Multiple  (5/6)\n",
    "\n",
    "Testons tout cela : \n",
    "\n",
    "```ts\n",
    "const fruits = {\n",
    "  apple: { color: \"red\", mass: 100 },\n",
    "  grape: { color: \"red\", mass: 5 },\n",
    "  banana: { color: \"yellow\", mass: 183 },\n",
    "  lemon: { color: \"yellow\", mass: 80 },\n",
    "  pear: { color: \"green\", mass: 178 },\n",
    "  orange: { color: \"orange\", mass: 262 },\n",
    "  raspberry: { color: \"red\", mass: 4 },\n",
    "  cherry: { color: \"red\", mass: 5 },\n",
    "};\n",
    "```"
   ]
  },
  {
   "cell_type": "markdown",
   "id": "9d69b5e2",
   "metadata": {
    "slideshow": {
     "slide_type": "subslide"
    }
   },
   "source": [
    "### Généricité Multiple  (6/6)\n",
    "\n",
    "```ts\n",
    "// fruits with kg mass :\n",
    "const fruitsWithKgMass = mapDict(fruits, (fruit, name) => ({\n",
    "  ...fruit,\n",
    "  kg: 0.001 * fruit.mass,\n",
    "  name,\n",
    "}));\n",
    "\n",
    "// only red fruits\n",
    "const redFruits = filterDict(fruits, (fruit) => fruit.color === \"red\");\n",
    "\n",
    "// If we had one of each fruit, how much would the total mass be ?\n",
    "const oneOfEachFruitMass = reduceDict(\n",
    "  fruits,\n",
    "  (currentMass, fruit) => currentMass + fruit.mass,\n",
    "  0\n",
    ");\n",
    "```"
   ]
  },
  {
   "cell_type": "markdown",
   "id": "4342dc20-bf63-4861-b626-36ccefa4b94e",
   "metadata": {
    "slideshow": {
     "slide_type": "slide"
    }
   },
   "source": [
    "## En Résumé <a class=\"anchor\" id=\"resume\"></a>\n",
    "\n",
    "> Un type générique s’adapte pour exécuter la même fonction sur différents types de données. Avec une classe ou procédure générique, il n'y a pas besoin de définir une version distincte pour chaque type de données lié à notre classe ou procédure.\n",
    "\n",
    "> On peut contraindre ces types générique, soit par une borne inférieure (ici notre extends), dans d'autres langages, on peut également contraindre une borne supérieure (avec le mot cléf _super_ en JAVA par exemple).\n",
    "\n",
    "> On peut utiliser plusieurs types génériques dans la même définitions de class, méthode, ..."
   ]
  },
  {
   "attachments": {
    "type_g%C3%A9n%C3%A9rique1.png": {
     "image/png": "[encoded data removed]"
    }
   },
   "cell_type": "markdown",
   "id": "5c12bdc7",
   "metadata": {
    "slideshow": {
     "slide_type": "subslide"
    }
   },
   "source": [
    "> On pourrait comparer cet élément de programmation à un tournevis à têtes interchangeables :\n",
    "![type_g%C3%A9n%C3%A9rique1.png](attachment:type_g%C3%A9n%C3%A9rique1.png)"
   ]
  },
  {
   "cell_type": "markdown",
   "id": "cc57c434-27f1-4bd3-a795-4ff2bed10bb2",
   "metadata": {
    "slideshow": {
     "slide_type": "slide"
    }
   },
   "source": [
    "## Chronologie d'Apparition des Types Génériques <a class=\"anchor\" id=\"example\"></a>\n",
    "\n",
    "\n",
    "\n"
   ]
  },
  {
   "cell_type": "markdown",
   "id": "08235a23",
   "metadata": {
    "slideshow": {
     "slide_type": "notes"
    }
   },
   "source": [
    "2004 : JDK 1.5, appelé Java 5.\n",
    "\n",
    "12 août 2011 -> ajout des templates -> c++\n",
    "\n",
    "rust -> 2015 pour la release 1.1.0\n",
    "\n",
    "Typescript -> 22 February 2016\n",
    "\n",
    "    PEP 484 – Type Hints -> python -> 29-Sep-2014 mais il faudra attendre PEP 560 – Core support for typing module and generic types en 03-Sep-2017 pour un meilleur support, ...et encore + expliquer ce qu'il manque + exemple université + mapper en python + transition.\n"
   ]
  },
  {
   "cell_type": "code",
   "execution_count": 1,
   "id": "7bdeee59",
   "metadata": {
    "slideshow": {
     "slide_type": "fragment"
    }
   },
   "outputs": [
    {
     "data": {
      "image/png": "[encoded data removed]",
      "text/plain": [
       "<Figure size 2500x1500 with 1 Axes>"
      ]
     },
     "metadata": {},
     "output_type": "display_data"
    }
   ],
   "source": [
    "import matplotlib.pyplot as plt\n",
    "from datetime import date\n",
    "import numpy as np\n",
    " \n",
    "%matplotlib inline\n",
    "\n",
    "dates = [date(2004, 9, 30), date(2011, 8, 12), date(2014, 9, 29), date(2015, 5, 15), date(2017, 9, 3)]\n",
    "min_date = date(np.min(dates).year - 2, np.min(dates).month, np.min(dates).day)\n",
    "max_date = date(np.max(dates).year + 2, np.max(dates).month, np.max(dates).day)\n",
    " \n",
    "labels = ['Java', 'C++', 'Rust','Typescript', 'Python']\n",
    "# labels with associated dates\n",
    "labels = ['{0:%Y} \\n{1}'.format(d, l) for l, d in zip (labels, dates)] #  default date format is '{0:%d %b %Y}:\\n{1}'\n",
    "\n",
    "fig, ax = plt.subplots(figsize=(25, 15), constrained_layout=True)\n",
    "_ = ax.set_ylim(-1, 1)\n",
    "_ = ax.set_xlim(min_date , max_date)\n",
    "_ = ax.axhline(0, xmin=0.05, xmax=0.95, c='deeppink', zorder=1)\n",
    " \n",
    "_ = ax.scatter(dates, np.zeros(len(dates)), s=120, c='palevioletred', zorder=2)\n",
    "_ = ax.scatter(dates, np.zeros(len(dates)), s=30, c='darkmagenta', zorder=3)\n",
    "\n",
    "label_offsets = np.zeros(len(dates))\n",
    "\n",
    "label_offsets[::2] = 0.35\n",
    "label_offsets[1::2] = -0.45\n",
    "for i, (l, d) in enumerate(zip(labels, dates)):\n",
    "    _ = ax.text(d, label_offsets[i], l, ha='center', fontfamily='serif', fontweight='bold', color='royalblue',fontsize=30)\n",
    "\n",
    "stems = np.zeros(len(dates))\n",
    "stems[::2] = 0.3\n",
    "stems[1::2] = -0.3   \n",
    "markerline, stemline, baseline = ax.stem(dates, stems)\n",
    "_ = plt.setp(markerline, marker=',', color='darkmagenta')\n",
    "_ = plt.setp(stemline, color='darkmagenta')\n",
    "\n",
    "# hide lines around chart\n",
    "for spine in [\"left\", \"top\", \"right\", \"bottom\"]:\n",
    "    _ = ax.spines[spine].set_visible(False)\n",
    " \n",
    "# hide tick labels\n",
    "_ = ax.set_xticks([])\n",
    "_ = ax.set_yticks([])\n",
    " \n",
    "_ = ax.set_title(\"Figure 1 : Chronologie d'Apparition des Types Génériques\", fontweight=\"bold\", fontfamily='serif', fontsize=40, \n",
    "                 color='royalblue')\n"
   ]
  },
  {
   "cell_type": "markdown",
   "id": "d995f54e",
   "metadata": {
    "slideshow": {
     "slide_type": "slide"
    }
   },
   "source": [
    "## Généricité Simple En python... jusqu'alors (1/2) <a class=\"anchor\" id=\"python1\"></a>\n"
   ]
  },
  {
   "cell_type": "code",
   "execution_count": null,
   "id": "38bf00b7",
   "metadata": {
    "slideshow": {
     "slide_type": "subslide"
    }
   },
   "outputs": [],
   "source": [
    "from dataclasses import dataclass\n",
    "from typing import Generic, TypeVar\n",
    "\n",
    "\n",
    "@dataclass(frozen=True)\n",
    "class Academics:\n",
    "    administration_id: str\n",
    "    last_name: str\n",
    "    first_name: str\n",
    "\n",
    "\n",
    "GenericAcademics = TypeVar(\"GenericAcademics\", bound=Academics)\n",
    "\n",
    "\n",
    "class University(Generic[GenericAcademics]):\n",
    "    name: str\n",
    "    academics: list[GenericAcademics]\n",
    "\n",
    "    def __init__(self, name: str) -> None:\n",
    "        super().__init__()\n",
    "        self.name = name\n",
    "        self.academics = []\n",
    "\n",
    "    def add_academic(self, academic: GenericAcademics) -> None:\n",
    "        self.academics.append(academic)\n",
    "\n",
    "    def removeAcademic(self, administration_id: str) -> None:\n",
    "        removed_student = next(\n",
    "            filter(\n",
    "                lambda academic: academic.administration_id == administration_id,\n",
    "                self.academics,\n",
    "            ),\n",
    "            None,\n",
    "        )\n",
    "        if removed_student:\n",
    "            self.academics.remove(removed_student)\n",
    "\n",
    "    def get_academic(self, administration_id: str) -> GenericAcademics | None:\n",
    "        return next(\n",
    "            filter(\n",
    "                lambda academic: academic.administration_id == administration_id,\n",
    "                self.academics,\n",
    "            ),\n",
    "            None,\n",
    "        )"
   ]
  },
  {
   "cell_type": "markdown",
   "id": "b54505b0",
   "metadata": {
    "slideshow": {
     "slide_type": "subslide"
    }
   },
   "source": [
    "## Généricité Simple En python... jusqu'alors (2/2)\n",
    "\n",
    "Ce que on peut dire de ce code python :\n",
    "\n",
    "<span style=\"color: green\">+ On répond au besoin</span>  \n",
    "<span style=\"color: green\">+ La gestion des types concernés est faite à un seul endroit</span>  \n",
    "<span style=\"color: green\">+ A chaque nouveaux types géré, rien ne change dans la structure de la classe</span>  \n",
    "<span style=\"color: red\">+ Impossible d'expliciter des contraintes sur le type attendu à l'instanciation d'une nouvelle université </span>\n",
    "<span style=\"color: red\">+ Syntaxe un peu lourde et pas focément intuitive </span>"
   ]
  },
  {
   "cell_type": "markdown",
   "id": "cdb447dd",
   "metadata": {
    "slideshow": {
     "slide_type": "slide"
    }
   },
   "source": [
    "# Sources <a class=\"anchor\" id=\"sources\"></a>\n",
    "\n",
    "\n",
    "Release des versions des languages qui introduisent les types génériques :\n",
    " + https://github.com/rust-lang/rust/blob/master/RELEASES.md\n",
    " + https://en.wikipedia.org/wiki/TypeScript#Release_history\n",
    " + https://fr.wikipedia.org/wiki/C%2B%2B#Fonctionnalit%C3%A9s_introduites\n",
    " + https://koor.fr/Java/Tutorial/java_generics_introduction.wp"
   ]
  },
  {
   "cell_type": "markdown",
   "id": "cb6e4c63-1f42-4d1b-8466-85edf3772d31",
   "metadata": {
    "slideshow": {
     "slide_type": "notes"
    }
   },
   "source": [
    "## Notions Avancées <a class=\"anchor\" id=\"advanced-notions\"></a>\n",
    "\n",
    "\n",
    " Dans cette section sera explicité les notions avancés sur les types génériques dans un exemple concret avec une classe map, filter et reduce sur des dictionaires ! J'ai hate \n",
    "\n",
    "\n"
   ]
  }
 ],
 "metadata": {
  "celltoolbar": "Slideshow",
  "kernelspec": {
   "display_name": "Python 3 (ipykernel)",
   "language": "python",
   "name": "python3"
  },
  "language_info": {
   "codemirror_mode": {
    "name": "ipython",
    "version": 3
   },
   "file_extension": ".py",
   "mimetype": "text/x-python",
   "name": "python",
   "nbconvert_exporter": "python",
   "pygments_lexer": "ipython3",
   "version": "3.10.11"
  }
 },
 "nbformat": 4,
 "nbformat_minor": 5
}
