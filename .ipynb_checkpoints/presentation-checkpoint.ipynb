{
 "cells": [
  {
   "cell_type": "markdown",
   "id": "399e5719-f991-4d3e-b6d7-12140fdd451b",
   "metadata": {
    "slideshow": {
     "slide_type": "slide"
    }
   },
   "source": [
    "# Ceci est un test\n",
    "\n",
    "Je peux mettre du TS ici : \n",
    "\n",
    "````ts\n",
    "\n",
    "number a = 5;\n",
    "\n",
    "class TOTO{\n",
    "\n",
    "const Array<T> list = [];\n",
    "    \n",
    "// a comment here\n",
    "}\n",
    "\n",
    "```\n",
    "\n",
    "\n"
   ]
  },
  {
   "cell_type": "markdown",
   "id": "8c80f805-03ad-4476-847f-7f2d75849f4d",
   "metadata": {
    "slideshow": {
     "slide_type": "slide"
    }
   },
   "source": [
    "# Sommaire\n",
    "\n",
    "\n",
    "[Motivation](#motivation)\n",
    "[Notions de Base](#notions-de-base)\n",
    "[Un exemple Complet](#example)\n",
    "[Notions Avancées](#advanced-notions)\n",
    "\n",
    "\n"
   ]
  },
  {
   "cell_type": "markdown",
   "id": "05daf56c-b091-471f-8620-3304ba4c0ae8",
   "metadata": {
    "slideshow": {
     "slide_type": "slide"
    }
   },
   "source": [
    "## Motivations <a class=\"anchor\" id=\"motivation\"></a>\n",
    "\n",
    "\n",
    "\n",
    "\n",
    "\n"
   ]
  },
  {
   "cell_type": "markdown",
   "id": "0fe1d100",
   "metadata": {
    "slideshow": {
     "slide_type": "subslide"
    }
   },
   "source": [
    "### Un Exemple Introductif (1/x) <a class=\"anchor\" id=\"exemple1.1\"></a>\n",
    "\n",
    "\n",
    "```ts\n",
    "/**\n",
    " * Types for extremely complex objects.\n",
    " */\n",
    "// List of available courses\n",
    "type Classes = \"Maths\" | \"Physics\" | \"Computer Science\" | \"Advanced English\" | \"Babi-Foot\";\n",
    "\n",
    "// A student in the University\n",
    "type Student = {\n",
    "    administrationId: string;\n",
    "    lastName: string;\n",
    "    firstName: string;\n",
    "    attendedClasses: Array<Classes>;\n",
    "};\n",
    "```\n"
   ]
  },
  {
   "cell_type": "markdown",
   "id": "41c7f2e6",
   "metadata": {
    "slideshow": {
     "slide_type": "subslide"
    }
   },
   "source": [
    "### Un Exemple Introductif (2/x) <a class=\"anchor\" id=\"exemple1.2\"></a>\n",
    "\n",
    "```ts\n",
    "class University {\n",
    "\n",
    "    name: string;\n",
    "    students: Array<Student>;\n",
    "\n",
    "    constructor(name: string){\n",
    "        this.name = name\n",
    "        this.students = new Array<Student>;\n",
    "    }\n",
    "\n",
    "    get studentPromotion(){\n",
    "        return this.students\n",
    "    }\n",
    "\n",
    "    addStudent(student: Student): void{\n",
    "        this.students = [...this.students, student]\n",
    "    }\n",
    "   \n",
    "    removeStudent(administrationId: string): void {\n",
    "        this.students = this.students.filter((student) => {return student.administrationId === administrationId})\n",
    "    }\n",
    "\n",
    "    getStudent(administrationId: string): Student | undefined {\n",
    "        return this.students.find((student) => {return student.administrationId === administrationId})\n",
    "    }\n",
    "}\n",
    "```"
   ]
  },
  {
   "cell_type": "markdown",
   "id": "191a301a",
   "metadata": {
    "slideshow": {
     "slide_type": "subslide"
    }
   },
   "source": [
    "### Un Exemple Introductif (3/x) <a class=\"anchor\" id=\"exemple1.3\"></a>\n",
    "\n",
    "```ts\n",
    "type DoctoralStudent = {\n",
    "    administrationId: string;\n",
    "    lastName: string;\n",
    "    firstName: string;\n",
    "    attendedClasses: Array<Classes>;\n",
    "    salary: number;\n",
    "};\n",
    "const university = new University(\"Web Master\"); // La classe !\n",
    "```\n",
    "\n",
    "Que ce passe-t-il si on ajoute un doctorant à l'université ?"
   ]
  },
  {
   "cell_type": "markdown",
   "id": "74cc9caa",
   "metadata": {
    "slideshow": {
     "slide_type": "subslide"
    }
   },
   "source": [
    "### Un Exemple Introductif (4/x)\n",
    "\n",
    "\n",
    "Dans les faits :\n",
    "\n",
    "```ts\n",
    "\n",
    "const robert: Student = {\n",
    "    administrationId: \"452115r\",\n",
    "    firstName: \"DELACREUSE\", \n",
    "    lastName: \"Robert\", \n",
    "    attendedClasses: [\"Computer Science\", \"Babi-Foot\"]\n",
    "}\n",
    "\n",
    "const nathan: DoctoralStudent = {\n",
    "    administrationId: \"559151d\",\n",
    "    firstName: \"D\", \n",
    "    lastName: \"Nathan\", \n",
    "    attendedClasses: [ \"Babi-Foot\"],\n",
    "    salary: 2100\n",
    "}\n",
    "\n",
    "university.addStudent(robert) // OK\n",
    "university.addStudent(nathan) // OK\n",
    "```"
   ]
  },
  {
   "cell_type": "markdown",
   "id": "95183978",
   "metadata": {
    "slideshow": {
     "slide_type": "subslide"
    }
   },
   "source": [
    "### Un Exemple Introductif (5/x)\n",
    "\n",
    "En revanche :\n",
    "\n",
    "```ts\n",
    "type Teacher = {\n",
    "    administrationId: string;\n",
    "    lastName: string;\n",
    "    firstName: string;\n",
    "    ClassesGiven: Array<Classes>;\n",
    "    salary: number;\n",
    "};\n",
    "\n",
    "const bob: Teacher = {\n",
    "    administrationId: \"452115d\",\n",
    "    firstName: \"SINCKLAR\", \n",
    "    lastName: \"Bob\", \n",
    "    ClassesGiven: [\"Computer Science\", \"Babi-Foot\"],\n",
    "    salary: 3000\n",
    "}\n",
    "university.addStudent(bob) // KO : Property 'attendedClasses' is missing in type 'Teacher' but required in type 'Student'.\n",
    "```"
   ]
  },
  {
   "cell_type": "markdown",
   "id": "37261f8f",
   "metadata": {
    "slideshow": {
     "slide_type": "subslide"
    }
   },
   "source": [
    "### Un Exemple Introductif (6/x)\n",
    "\n",
    "Il nous faudrait tranformer ceci :\n",
    "\n",
    "```ts\n",
    "// A student in the University\n",
    "type Student = {\n",
    "    administrationId: string;\n",
    "    lastName: string;\n",
    "    firstName: string;\n",
    "    attendedClasses: Array<Classes>;\n",
    "};\n",
    "```"
   ]
  },
  {
   "cell_type": "markdown",
   "id": "6d6436d2",
   "metadata": {
    "slideshow": {
     "slide_type": "fragment"
    }
   },
   "source": [
    "\n",
    "En :\n",
    "\n",
    "```ts\n",
    "// A student in the University\n",
    "type Student = {\n",
    "    administrationId: string;\n",
    "    lastName: string;\n",
    "    firstName: string;\n",
    "    attendedClasses: Array<Classes>;\n",
    "};\n",
    "```\n",
    "type Academics = Student | DoctoralStudent"
   ]
  },
  {
   "cell_type": "markdown",
   "id": "23ca8e0e",
   "metadata": {
    "slideshow": {
     "slide_type": "subslide"
    }
   },
   "source": [
    "### Un Exemple Introductif - Premiere Approche <a class=\"anchor\" id=\"exemple1.x\"></a>\n",
    "\n",
    "```ts\n",
    "class University {\n",
    "\n",
    "    name: string;\n",
    "    academics: Array<Academics>;\n",
    "\n",
    "    constructor(name: string){\n",
    "        this.name = name\n",
    "        this.academics = new Array<Academics>;\n",
    "    }\n",
    "\n",
    "    get academicsPromotion(){\n",
    "        return this.academics\n",
    "    }\n",
    "\n",
    "    addAcademic(academic: Academics): void{\n",
    "        this.academics = [...this.academics, academic]\n",
    "    }\n",
    "   \n",
    "    removeAcademic(administrationId: string): void {\n",
    "        this.academics = this.academics.filter((academic) => {return academic.administrationId === administrationId})\n",
    "    }\n",
    "\n",
    "    getAcademic(administrationId: string): Academics | undefined {\n",
    "        return this.academics.find((academic) => {return academic.administrationId === administrationId})\n",
    "    }\n",
    "}\n",
    "```"
   ]
  },
  {
   "cell_type": "markdown",
   "id": "3dfbde65",
   "metadata": {
    "slideshow": {
     "slide_type": "slide"
    }
   },
   "source": [
    "### Un Exemple Introductif - Premiere Approche\n",
    "\n",
    "<span style=\"color: green\">+ On répond au besoin</span>\n",
    "<span style=\"color: red\">- La gestion des types concernés est faite à plusieurs endroits</span>\n",
    "<span style=\"color: red\">- A chaque nouveaux types géré, il faut modifier le type \"générique\" de notre université</span>\n",
    "<span style=\"color: red\">- Aucunes contraintes explicite sur ce type...</span>"
   ]
  },
  {
   "cell_type": "markdown",
   "id": "ec413194",
   "metadata": {
    "slideshow": {
     "slide_type": "slide"
    }
   },
   "source": [
    "### Un Exemple Introductif - Seconde Approche\n",
    "\n",
    "On utilise un type générique pour notre classe d'Université :\n",
    "\n",
    "```ts\n",
    "class University<T> {\n",
    "\n",
    "    name: string;\n",
    "    academics: Array<T>;\n",
    "\n",
    "    constructor(name: string){\n",
    "        this.name = name\n",
    "        this.academics = new Array<T>;\n",
    "    }\n",
    "\n",
    "    get academicsPromotion(){\n",
    "        return this.academics\n",
    "    }\n",
    "\n",
    "    addAcademic(academic: T): void{\n",
    "        this.academics = [...this.academics, academic]\n",
    "    }\n",
    "   \n",
    "    removeAcademic(administrationId: string): void {\n",
    "        this.academics = this.academics.filter((academic) => {return academic.administrationId === administrationId})\n",
    "        //Property 'administrationId' does not exist on type 'T' !\n",
    "    }\n",
    "\n",
    "    getAcademic(administrationId: string): T | undefined {\n",
    "        return this.academics.find((academic) => {return academic.administrationId === administrationId})\n",
    "        //Property 'administrationId' does not exist on type 'T' !\n",
    "    }\n",
    "}\n",
    "```"
   ]
  },
  {
   "cell_type": "markdown",
   "id": "a91ad2fc",
   "metadata": {
    "slideshow": {
     "slide_type": "subslide"
    }
   },
   "source": [
    "### Un Exemple Introductif - Seconde Approche\n",
    "\n",
    "```ts\n",
    "class University<T extends Academics> {\n",
    "\n",
    "    name: string;\n",
    "    academics: Array<T>;\n",
    "\n",
    "    constructor(name: string){\n",
    "        this.name = name\n",
    "        this.academics = new Array<T>;\n",
    "    }\n",
    "\n",
    "    get academicsPromotion(){\n",
    "        return this.academics\n",
    "    }\n",
    "\n",
    "    addAcademic(academic: T): void{\n",
    "        this.academics = [...this.academics, academic]\n",
    "    }\n",
    "   \n",
    "    removeAcademic(administrationId: string): void {\n",
    "        this.academics = this.academics.filter((academic) => {return academic.administrationId === administrationId})\n",
    "        //OK\n",
    "    }\n",
    "\n",
    "    getAcademic(administrationId: string): T | undefined {\n",
    "        return this.academics.find((academic) => {return academic.administrationId === administrationId})\n",
    "        //OK\n",
    "    }\n",
    "}\n",
    "```"
   ]
  },
  {
   "cell_type": "markdown",
   "id": "326b980f",
   "metadata": {
    "slideshow": {
     "slide_type": "subslide"
    }
   },
   "source": [
    "### Un Exemple Introductif - Seconde Approche\n",
    "\n",
    "```ts\n",
    "const university2 = new University2<Academics>(\"Web Master reborn\"); // instantiation of a new university\n",
    "university2.addAcademic(robert) // works\n",
    "university2.addAcademic(nathan) // also works\n",
    "university2.addAcademic(bob) // KO: Property 'attendedClasses' is missing in type 'Teacher' but required in type 'Student'.\n",
    "```\n"
   ]
  },
  {
   "cell_type": "markdown",
   "id": "fe5db240",
   "metadata": {
    "slideshow": {
     "slide_type": "subslide"
    }
   },
   "source": [
    "### Un Exemple Introductif - Bilan\n",
    "\n",
    "\n",
    "Avec la seconde approche :\n",
    "\n",
    "<span style=\"color: green\">+ On répond au besoin</span>\n",
    "<span style=\"color: green\">+ La gestion des types concernés est faite à un seul endroit</span>\n",
    "<span style=\"color: green\">+ A chaque nouveaux types géré, rien ne change dans la structure de la classe</span>\n",
    "<span style=\"color: green\">+ Contraintes explicite sur le type attendu à l'instanciation d'une nouvelle univresité</span>\n",
    "\n"
   ]
  },
  {
   "attachments": {},
   "cell_type": "markdown",
   "id": "4342dc20-bf63-4861-b626-36ccefa4b94e",
   "metadata": {
    "slideshow": {
     "slide_type": "slide"
    }
   },
   "source": [
    "## En résumé \n",
    "\n",
    "> Un type générique s’adapte pour exécuter la même fonction sur différents types de données.Avec une classe ou procédure générique, il n'y a pas besoin de définir une version distincte pour chaque type de données lié à notre classe ou procédure."
   ]
  },
  {
   "cell_type": "markdown",
   "id": "5c12bdc7",
   "metadata": {
    "slideshow": {
     "slide_type": "fragment"
    }
   },
   "source": [
    "> On pourrait comparer cet élément de programmation à un tournevis à têtes interchangeables :\n",
    "![image.png](attachment:image.png)"
   ]
  },
  {
   "cell_type": "markdown",
   "id": "5b3109f6",
   "metadata": {
    "slideshow": {
     "slide_type": "slide"
    }
   },
   "source": []
  },
  {
   "cell_type": "markdown",
   "id": "cc57c434-27f1-4bd3-a795-4ff2bed10bb2",
   "metadata": {
    "slideshow": {
     "slide_type": "slide"
    }
   },
   "source": [
    "## Un exemple Complet <a class=\"anchor\" id=\"example\"></a>\n",
    "\n",
    "\n",
    " Dans cette section sera explicité les notions de base sur les types génériques  (simple, double etc) dans un exemple concret avec les piles sur des étudiants, professeurs et doctorants\n",
    "\n",
    "\n"
   ]
  },
  {
   "cell_type": "markdown",
   "id": "cb6e4c63-1f42-4d1b-8466-85edf3772d31",
   "metadata": {
    "slideshow": {
     "slide_type": "slide"
    }
   },
   "source": [
    "## Notions Avancées <a class=\"anchor\" id=\"advanced-notions\"></a>\n",
    "\n",
    "\n",
    " Dans cette section sera explicité les notions avancés sur les types génériques dans un exemple concret avec une classe map, filter et reduce sur des dictionaires ! J'ai hate \n",
    "\n",
    "\n"
   ]
  }
 ],
 "metadata": {
  "celltoolbar": "Slideshow",
  "kernelspec": {
   "display_name": "Python 3 (ipykernel)",
   "language": "python",
   "name": "python3"
  },
  "language_info": {
   "codemirror_mode": {
    "name": "ipython",
    "version": 3
   },
   "file_extension": ".py",
   "mimetype": "text/x-python",
   "name": "python",
   "nbconvert_exporter": "python",
   "pygments_lexer": "ipython3",
   "version": "3.10.11"
  }
 },
 "nbformat": 4,
 "nbformat_minor": 5
}
