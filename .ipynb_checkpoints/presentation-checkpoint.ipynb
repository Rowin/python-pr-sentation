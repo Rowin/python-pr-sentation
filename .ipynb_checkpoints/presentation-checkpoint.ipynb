{
 "cells": [
  {
   "cell_type": "markdown",
   "id": "399e5719-f991-4d3e-b6d7-12140fdd451b",
   "metadata": {
    "jp-MarkdownHeadingCollapsed": true
   },
   "source": [
    "# Ceci est un test\n",
    "\n",
    "Je peux mettre du TS ici : \n",
    "\n",
    "````ts\n",
    "\n",
    "number a = 5;\n",
    "\n",
    "class TOTO{\n",
    "\n",
    "const Array<T> list = [];\n",
    "    \n",
    "// a comment here\n",
    "}\n",
    "\n",
    "```\n",
    "\n",
    "\n"
   ]
  },
  {
   "cell_type": "markdown",
   "id": "62dfbcae-7911-4c28-91f6-292b9f9cafad",
   "metadata": {},
   "source": [
    "# Sommaire\n",
    "\n",
    "\r\n",
    "-Motivationson]motivationson)\r\n",
    "Notions de Basesionnotions-de-basesion)\r\n",
    "- [Data Analysis](#data-analysis)\r\n",
    "- [Conclusion](#conclusion)\n",
    "\n",
    "\n"
   ]
  },
  {
   "cell_type": "markdown",
   "id": "05daf56c-b091-471f-8620-3304ba4c0ae8",
   "metadata": {},
   "source": [
    "## Motivations {#motivations}\n",
    "\n",
    "\r",
    "....ion)\n",
    "\n",
    "\n"
   ]
  }
 ],
 "metadata": {
  "kernelspec": {
   "display_name": "Python 3 (ipykernel)",
   "language": "python",
   "name": "python3"
  },
  "language_info": {
   "codemirror_mode": {
    "name": "ipython",
    "version": 3
   },
   "file_extension": ".py",
   "mimetype": "text/x-python",
   "name": "python",
   "nbconvert_exporter": "python",
   "pygments_lexer": "ipython3",
   "version": "3.10.11"
  }
 },
 "nbformat": 4,
 "nbformat_minor": 5
}
